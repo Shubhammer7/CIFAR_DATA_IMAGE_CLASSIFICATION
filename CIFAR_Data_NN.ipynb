{
 "cells": [
  {
   "cell_type": "code",
   "execution_count": 1,
   "metadata": {
    "colab": {
     "base_uri": "https://localhost:8080/"
    },
    "id": "_vB8dckXgVY1",
    "outputId": "f12a323b-18fa-4098-e92d-c6535ca70c28"
   },
   "outputs": [
    {
     "name": "stdout",
     "output_type": "stream",
     "text": [
      "^C\n"
     ]
    }
   ],
   "source": [
    "!pip install tensorflow"
   ]
  },
  {
   "cell_type": "code",
   "execution_count": 3,
   "metadata": {
    "id": "Iphd3NVlHzfP"
   },
   "outputs": [
    {
     "name": "stdout",
     "output_type": "stream",
     "text": [
      "WARNING:tensorflow:From C:\\Users\\shubh\\anaconda3\\Lib\\site-packages\\keras\\src\\losses.py:2976: The name tf.losses.sparse_softmax_cross_entropy is deprecated. Please use tf.compat.v1.losses.sparse_softmax_cross_entropy instead.\n",
      "\n"
     ]
    }
   ],
   "source": [
    "from numpy.random import seed\n",
    "seed(888)\n",
    "import tensorflow as tf"
   ]
  },
  {
   "cell_type": "code",
   "execution_count": 4,
   "metadata": {
    "id": "iMV4pe2QIEEU"
   },
   "outputs": [],
   "source": [
    "random_seed = tf.random.set_seed(404)\n",
    "random_seed"
   ]
  },
  {
   "cell_type": "code",
   "execution_count": 5,
   "metadata": {
    "id": "9wTHF1ccD-25"
   },
   "outputs": [],
   "source": [
    "import os\n",
    "import numpy as np\n",
    "import tensorflow as tf\n",
    "import keras\n",
    "from keras.datasets import cifar10\n",
    "from keras.models import Sequential\n",
    "from keras.layers import Dense, Activation\n",
    "\n",
    "from IPython.display import display\n",
    "from keras.preprocessing.image import array_to_img\n",
    "from keras.callbacks import TensorBoard\n",
    "\n",
    "from time import strftime\n",
    "\n",
    "import matplotlib.pyplot as plt\n",
    "\n",
    "%matplotlib inline"
   ]
  },
  {
   "cell_type": "code",
   "execution_count": 57,
   "metadata": {
    "id": "7FE5_9qWBPaD"
   },
   "outputs": [],
   "source": [
    "LOG_DIR = 'tensorboard_cifar_logs/'\n",
    "\n",
    "LABEL_NAMES = ['Plane','Car','Bird','Cat','Deer', 'Dog','Frog','Horse', 'Ship','Truck']\n",
    "IMAGE_WIDTH = 32\n",
    "IMAGE_HEIGHT = 32\n",
    "IMAGE_PIXELS = IMAGE_WIDTH * IMAGE_HEIGHT\n",
    "COLOR_CHANNELS = 3\n",
    "TOTAL_INPUTS = IMAGE_PIXELS * COLOR_CHANNELS\n",
    "NR_CLASSES = 10\n",
    "\n",
    "VALIDATION_SIZE = 10000\n",
    "SMALL_TRAIN_SIZE = 1000"
   ]
  },
  {
   "cell_type": "markdown",
   "metadata": {
    "id": "WkQlRNR1Ac1P"
   },
   "source": [
    "# Explore the Data"
   ]
  },
  {
   "cell_type": "code",
   "execution_count": 58,
   "metadata": {
    "colab": {
     "base_uri": "https://localhost:8080/"
    },
    "id": "i8MjwcTkArVE",
    "outputId": "aedfecda-b119-48cf-9c0d-4cbaf18e98a3"
   },
   "outputs": [],
   "source": [
    "(x_train_all, y_train_all), (x_test, y_test) = cifar10.load_data()"
   ]
  },
  {
   "cell_type": "code",
   "execution_count": 59,
   "metadata": {
    "colab": {
     "base_uri": "https://localhost:8080/"
    },
    "id": "SdHLDpi8ArKZ",
    "outputId": "010dce01-8b0b-46db-8f90-1c0a1badcc9b"
   },
   "outputs": [
    {
     "data": {
      "text/plain": [
       "numpy.ndarray"
      ]
     },
     "execution_count": 59,
     "metadata": {},
     "output_type": "execute_result"
    }
   ],
   "source": [
    "type(cifar10)\n",
    "type(x_train_all)"
   ]
  },
  {
   "cell_type": "code",
   "execution_count": 60,
   "metadata": {
    "colab": {
     "base_uri": "https://localhost:8080/"
    },
    "id": "BLHA6RHIEAA5",
    "outputId": "de3e9704-e5c6-4ec0-f33f-067fdabdb5aa"
   },
   "outputs": [
    {
     "data": {
      "text/plain": [
       "array([[[ 59,  62,  63],\n",
       "        [ 43,  46,  45],\n",
       "        [ 50,  48,  43],\n",
       "        ...,\n",
       "        [158, 132, 108],\n",
       "        [152, 125, 102],\n",
       "        [148, 124, 103]],\n",
       "\n",
       "       [[ 16,  20,  20],\n",
       "        [  0,   0,   0],\n",
       "        [ 18,   8,   0],\n",
       "        ...,\n",
       "        [123,  88,  55],\n",
       "        [119,  83,  50],\n",
       "        [122,  87,  57]],\n",
       "\n",
       "       [[ 25,  24,  21],\n",
       "        [ 16,   7,   0],\n",
       "        [ 49,  27,   8],\n",
       "        ...,\n",
       "        [118,  84,  50],\n",
       "        [120,  84,  50],\n",
       "        [109,  73,  42]],\n",
       "\n",
       "       ...,\n",
       "\n",
       "       [[208, 170,  96],\n",
       "        [201, 153,  34],\n",
       "        [198, 161,  26],\n",
       "        ...,\n",
       "        [160, 133,  70],\n",
       "        [ 56,  31,   7],\n",
       "        [ 53,  34,  20]],\n",
       "\n",
       "       [[180, 139,  96],\n",
       "        [173, 123,  42],\n",
       "        [186, 144,  30],\n",
       "        ...,\n",
       "        [184, 148,  94],\n",
       "        [ 97,  62,  34],\n",
       "        [ 83,  53,  34]],\n",
       "\n",
       "       [[177, 144, 116],\n",
       "        [168, 129,  94],\n",
       "        [179, 142,  87],\n",
       "        ...,\n",
       "        [216, 184, 140],\n",
       "        [151, 118,  84],\n",
       "        [123,  92,  72]]], dtype=uint8)"
      ]
     },
     "execution_count": 60,
     "metadata": {},
     "output_type": "execute_result"
    }
   ],
   "source": [
    "x_train_all[0]"
   ]
  },
  {
   "cell_type": "code",
   "execution_count": 61,
   "metadata": {
    "colab": {
     "base_uri": "https://localhost:8080/",
     "height": 49
    },
    "id": "7dMK_yguAftq",
    "outputId": "ef5da26b-f1f1-4a60-cd55-21342c8f4b2b"
   },
   "outputs": [
    {
     "data": {
      "image/jpeg": "[encoded data removed]",
      "image/png": "[encoded data removed]",
      "text/plain": [
       "<PIL.Image.Image image mode=RGB size=32x32>"
      ]
     },
     "metadata": {},
     "output_type": "display_data"
    }
   ],
   "source": [
    "pic = array_to_img(x_train_all[7])\n",
    "display(pic)"
   ]
  },
  {
   "cell_type": "code",
   "execution_count": 62,
   "metadata": {
    "colab": {
     "base_uri": "https://localhost:8080/"
    },
    "id": "icJjuzp6AmJu",
    "outputId": "64f75d8f-d291-4a5a-d66a-9d9586bc7a1e"
   },
   "outputs": [
    {
     "data": {
      "text/plain": [
       "(50000, 1)"
      ]
     },
     "execution_count": 62,
     "metadata": {},
     "output_type": "execute_result"
    }
   ],
   "source": [
    "y_train_all.shape"
   ]
  },
  {
   "cell_type": "code",
   "execution_count": 63,
   "metadata": {
    "colab": {
     "base_uri": "https://localhost:8080/"
    },
    "id": "wN4ZfW8gBDWK",
    "outputId": "b643a084-631f-4405-db1f-000e680930f8"
   },
   "outputs": [
    {
     "data": {
      "text/plain": [
       "7"
      ]
     },
     "execution_count": 63,
     "metadata": {},
     "output_type": "execute_result"
    }
   ],
   "source": [
    "y_train_all[7][0]"
   ]
  },
  {
   "cell_type": "code",
   "execution_count": 64,
   "metadata": {
    "colab": {
     "base_uri": "https://localhost:8080/",
     "height": 35
    },
    "id": "vEgU7-M7Bcce",
    "outputId": "4e2d22d6-20ed-4fb7-fc6d-461ec894af7e"
   },
   "outputs": [
    {
     "data": {
      "text/plain": [
       "'Horse'"
      ]
     },
     "execution_count": 64,
     "metadata": {},
     "output_type": "execute_result"
    }
   ],
   "source": [
    "LABEL_NAMES[y_train_all[7][0]]"
   ]
  },
  {
   "cell_type": "code",
   "execution_count": 65,
   "metadata": {
    "colab": {
     "base_uri": "https://localhost:8080/",
     "height": 455
    },
    "id": "H0qHoWpyBcXq",
    "outputId": "a8ec024b-58b4-4a49-e298-bf39f9bb2aa1"
   },
   "outputs": [
    {
     "data": {
      "image/png": "[encoded data removed]",
      "text/plain": [
       "<Figure size 640x480 with 1 Axes>"
      ]
     },
     "metadata": {},
     "output_type": "display_data"
    }
   ],
   "source": [
    "plt.imshow(x_train_all[4])\n",
    "plt.xlabel(LABEL_NAMES[y_train_all[4][0]], fontsize=15)\n",
    "plt.show()"
   ]
  },
  {
   "cell_type": "code",
   "execution_count": 66,
   "metadata": {
    "colab": {
     "base_uri": "https://localhost:8080/",
     "height": 115
    },
    "id": "cGrhcylTBcRx",
    "outputId": "83a8b286-0ffb-45c8-ead3-a1c3c2e59cfc"
   },
   "outputs": [
    {
     "data": {
      "image/png": "[encoded data removed]",
      "text/plain": [
       "<Figure size 1500x500 with 10 Axes>"
      ]
     },
     "metadata": {},
     "output_type": "display_data"
    }
   ],
   "source": [
    "plt.figure(figsize=(15,5))\n",
    "\n",
    "for i in range(10):\n",
    "  plt.subplot(1,10,i+1)\n",
    "  plt.yticks([])\n",
    "  plt.xticks([])\n",
    "  plt.xlabel(LABEL_NAMES[y_train_all[i][0]], fontsize=15)\n",
    "  plt.imshow(x_train_all[i])"
   ]
  },
  {
   "cell_type": "code",
   "execution_count": 67,
   "metadata": {
    "colab": {
     "base_uri": "https://localhost:8080/"
    },
    "id": "vOgOBbTZBj3t",
    "outputId": "fe4761b7-49c7-4939-fcb1-80000d768ae4"
   },
   "outputs": [
    {
     "data": {
      "text/plain": [
       "(32, 32, 3)"
      ]
     },
     "execution_count": 67,
     "metadata": {},
     "output_type": "execute_result"
    }
   ],
   "source": [
    "x_train_all[0].shape"
   ]
  },
  {
   "cell_type": "code",
   "execution_count": 68,
   "metadata": {
    "colab": {
     "base_uri": "https://localhost:8080/"
    },
    "id": "jcvzheXaBj1a",
    "outputId": "ed8f0eb6-6553-40e2-c6a2-2e9efd0aee01"
   },
   "outputs": [
    {
     "name": "stdout",
     "output_type": "stream",
     "text": [
      "images = 50000 \t | width = 32 \t | height = 32 \t | channels = 3\n"
     ]
    }
   ],
   "source": [
    "no_images, x, y, c = x_train_all.shape\n",
    "print(f\"images = {no_images} \\t | width = {x} \\t | height = {y} \\t | channels = {c}\")"
   ]
  },
  {
   "cell_type": "code",
   "execution_count": 69,
   "metadata": {
    "colab": {
     "base_uri": "https://localhost:8080/"
    },
    "id": "XLWbgtVhBjy_",
    "outputId": "d03393cc-03f0-4a1d-9f06-896a4b2c22f7"
   },
   "outputs": [
    {
     "data": {
      "text/plain": [
       "(10000, 32, 32, 3)"
      ]
     },
     "execution_count": 69,
     "metadata": {},
     "output_type": "execute_result"
    }
   ],
   "source": [
    "x_test.shape"
   ]
  },
  {
   "cell_type": "markdown",
   "metadata": {
    "id": "ZNnIcxFODJrL"
   },
   "source": [
    "# Preprocess Data"
   ]
  },
  {
   "cell_type": "code",
   "execution_count": 70,
   "metadata": {
    "colab": {
     "base_uri": "https://localhost:8080/"
    },
    "id": "zR-zAjIOBjwq",
    "outputId": "22e16628-3199-47db-ee4f-42ff214ce682"
   },
   "outputs": [
    {
     "data": {
      "text/plain": [
       "numpy.uint8"
      ]
     },
     "execution_count": 70,
     "metadata": {},
     "output_type": "execute_result"
    }
   ],
   "source": [
    "type(x_train_all[0][0][0][0])"
   ]
  },
  {
   "cell_type": "code",
   "execution_count": 71,
   "metadata": {
    "id": "Thl9BENwBjpX"
   },
   "outputs": [],
   "source": [
    "x_train_all, x_test = x_train_all / 255.0 , x_test / 255.0"
   ]
  },
  {
   "cell_type": "code",
   "execution_count": 72,
   "metadata": {
    "colab": {
     "base_uri": "https://localhost:8080/"
    },
    "id": "0BwJuBUQDBpP",
    "outputId": "e2cd7bae-dee5-4362-b644-26de45a7ed17"
   },
   "outputs": [
    {
     "data": {
      "text/plain": [
       "0.23137254901960785"
      ]
     },
     "execution_count": 72,
     "metadata": {},
     "output_type": "execute_result"
    }
   ],
   "source": [
    "x_train_all[0][0][0][0]"
   ]
  },
  {
   "cell_type": "code",
   "execution_count": 73,
   "metadata": {
    "id": "FNQNpjvqDBm8"
   },
   "outputs": [],
   "source": [
    "x_train_all = x_train_all.reshape(x_train_all.shape[0], TOTAL_INPUTS)"
   ]
  },
  {
   "cell_type": "code",
   "execution_count": 74,
   "metadata": {
    "colab": {
     "base_uri": "https://localhost:8080/"
    },
    "id": "W1gTW_RgDBkz",
    "outputId": "1f2506c5-c8ee-4ef1-a2e0-17e3a13a0d64"
   },
   "outputs": [
    {
     "data": {
      "text/plain": [
       "(50000, 3072)"
      ]
     },
     "execution_count": 74,
     "metadata": {},
     "output_type": "execute_result"
    }
   ],
   "source": [
    "x_train_all.shape"
   ]
  },
  {
   "cell_type": "code",
   "execution_count": 75,
   "metadata": {
    "colab": {
     "base_uri": "https://localhost:8080/"
    },
    "id": "mnOGprcRDBiU",
    "outputId": "b0d1f49f-aa91-4c48-cd02-cbd242c12a6a"
   },
   "outputs": [
    {
     "name": "stdout",
     "output_type": "stream",
     "text": [
      "Shape of x_test is (10000, 3072)\n"
     ]
    }
   ],
   "source": [
    "x_test = x_test.reshape(len(x_test), TOTAL_INPUTS)\n",
    "print(f\"Shape of x_test is {x_test.shape}\")"
   ]
  },
  {
   "cell_type": "markdown",
   "metadata": {
    "id": "sPM-NqjSEiJD"
   },
   "source": [
    "# Creating Validation Dataset"
   ]
  },
  {
   "cell_type": "code",
   "execution_count": 76,
   "metadata": {
    "colab": {
     "base_uri": "https://localhost:8080/"
    },
    "id": "OzIU4H7DDBf2",
    "outputId": "dd4575b2-02b3-4a3f-c920-956846dd82d8"
   },
   "outputs": [
    {
     "data": {
      "text/plain": [
       "(10000, 3072)"
      ]
     },
     "execution_count": 76,
     "metadata": {},
     "output_type": "execute_result"
    }
   ],
   "source": [
    "x_val = x_train_all[:VALIDATION_SIZE]\n",
    "y_val = y_train_all[:VALIDATION_SIZE]\n",
    "x_val.shape"
   ]
  },
  {
   "cell_type": "code",
   "execution_count": 77,
   "metadata": {
    "colab": {
     "base_uri": "https://localhost:8080/"
    },
    "id": "JOD47Th-DBdY",
    "outputId": "3d063c46-53f1-4b9d-e077-65247305c1b1"
   },
   "outputs": [
    {
     "data": {
      "text/plain": [
       "(40000, 3072)"
      ]
     },
     "execution_count": 77,
     "metadata": {},
     "output_type": "execute_result"
    }
   ],
   "source": [
    "x_train = x_train_all[VALIDATION_SIZE:]\n",
    "y_train = y_train_all[VALIDATION_SIZE:]\n",
    "x_train.shape"
   ]
  },
  {
   "cell_type": "markdown",
   "metadata": {
    "id": "6rGVxS1oE9Wb"
   },
   "source": [
    "For Illustration"
   ]
  },
  {
   "cell_type": "code",
   "execution_count": 78,
   "metadata": {
    "id": "eXM8NxgYE8pH"
   },
   "outputs": [],
   "source": [
    "x_train_xs = x_train[:SMALL_TRAIN_SIZE]\n",
    "y_train_xs = y_train[:SMALL_TRAIN_SIZE]"
   ]
  },
  {
   "cell_type": "markdown",
   "metadata": {
    "id": "7P8562ZPGVcB"
   },
   "source": [
    "Neural Network"
   ]
  },
  {
   "cell_type": "code",
   "execution_count": 79,
   "metadata": {
    "id": "MixnJj6bGV0x"
   },
   "outputs": [],
   "source": [
    "model_1 = Sequential([\n",
    "    Dense(units=128, input_dim=TOTAL_INPUTS, activation='relu', name='m1_hidden1'),\n",
    "    Dense(units=64, activation='relu',name='m1_hidden2'),\n",
    "    Dense(16, activation='relu',name='m1_hidden3'),\n",
    "    Dense(10, activation='softmax',name='m1_output')\n",
    "])\n",
    "\n",
    "model_1.compile(\n",
    "optimizer= keras.optimizers.Adam(),\n",
    "loss= keras.losses.SparseCategoricalCrossentropy(from_logits= True),\n",
    "metrics= ['accuracy'])"
   ]
  },
  {
   "cell_type": "code",
   "execution_count": 80,
   "metadata": {
    "colab": {
     "base_uri": "https://localhost:8080/"
    },
    "id": "zAd4SMUjGVyi",
    "outputId": "97c3bba3-ba79-4a0b-c5a8-9e02af4b3f13"
   },
   "outputs": [
    {
     "data": {
      "text/plain": [
       "keras.src.engine.sequential.Sequential"
      ]
     },
     "execution_count": 80,
     "metadata": {},
     "output_type": "execute_result"
    }
   ],
   "source": [
    "type(model_1)"
   ]
  },
  {
   "cell_type": "code",
   "execution_count": 81,
   "metadata": {
    "colab": {
     "base_uri": "https://localhost:8080/"
    },
    "id": "2FH0Nt3QGVwj",
    "outputId": "b82b5880-70f9-4447-8366-84833282068e"
   },
   "outputs": [
    {
     "name": "stdout",
     "output_type": "stream",
     "text": [
      "Model: \"sequential_1\"\n",
      "_________________________________________________________________\n",
      " Layer (type)                Output Shape              Param #   \n",
      "=================================================================\n",
      " m1_hidden1 (Dense)          (None, 128)               393344    \n",
      "                                                                 \n",
      " m1_hidden2 (Dense)          (None, 64)                8256      \n",
      "                                                                 \n",
      " m1_hidden3 (Dense)          (None, 16)                1040      \n",
      "                                                                 \n",
      " m1_output (Dense)           (None, 10)                170       \n",
      "                                                                 \n",
      "=================================================================\n",
      "Total params: 402810 (1.54 MB)\n",
      "Trainable params: 402810 (1.54 MB)\n",
      "Non-trainable params: 0 (0.00 Byte)\n",
      "_________________________________________________________________\n"
     ]
    }
   ],
   "source": [
    "model_1.summary()"
   ]
  },
  {
   "cell_type": "markdown",
   "metadata": {
    "id": "FuYsJrUkGVuF"
   },
   "source": [
    "## Tensorboard (Visualising Learning)"
   ]
  },
  {
   "cell_type": "code",
   "execution_count": 82,
   "metadata": {
    "id": "MV1bHLE2GVrc"
   },
   "outputs": [],
   "source": [
    "def get_tensorboard(model_name):\n",
    "    log_dir = \"logs/fit/\" + model_name + \"/\" + datetime.datetime.now().strftime(\"%Y%m%d-%H%M%S\")\n",
    "    tensorboard_callback = TensorBoard(log_dir=log_dir, histogram_freq=1)\n",
    "    return tensorboard_callback\n"
   ]
  },
  {
   "cell_type": "markdown",
   "metadata": {
    "id": "N8ei4lR2DBaq"
   },
   "source": [
    "## Model Fit"
   ]
  },
  {
   "cell_type": "code",
   "execution_count": 83,
   "metadata": {},
   "outputs": [],
   "source": [
    "sample_per_batch = 1000"
   ]
  },
  {
   "cell_type": "code",
   "execution_count": 84,
   "metadata": {
    "id": "W0JXTHyODBYo"
   },
   "outputs": [
    {
     "name": "stdout",
     "output_type": "stream",
     "text": [
      "Epoch 1/20\n"
     ]
    },
    {
     "name": "stderr",
     "output_type": "stream",
     "text": [
      "C:\\Users\\shubh\\anaconda3\\Lib\\site-packages\\keras\\src\\backend.py:5727: UserWarning: \"`sparse_categorical_crossentropy` received `from_logits=True`, but the `output` argument was produced by a Softmax activation and thus does not represent logits. Was this intended?\n",
      "  output, from_logits = _get_logits(\n"
     ]
    },
    {
     "name": "stdout",
     "output_type": "stream",
     "text": [
      "1/1 [==============================] - 1s 784ms/step - loss: 2.3264 - accuracy: 0.1170\n",
      "Epoch 2/20\n",
      "1/1 [==============================] - 0s 112ms/step - loss: 2.3429 - accuracy: 0.1030\n",
      "Epoch 3/20\n",
      "1/1 [==============================] - 0s 109ms/step - loss: 2.3029 - accuracy: 0.1780\n",
      "Epoch 4/20\n",
      "1/1 [==============================] - 0s 113ms/step - loss: 2.3279 - accuracy: 0.0890\n",
      "Epoch 5/20\n",
      "1/1 [==============================] - 0s 100ms/step - loss: 2.2765 - accuracy: 0.1150\n",
      "Epoch 6/20\n",
      "1/1 [==============================] - 0s 94ms/step - loss: 2.2795 - accuracy: 0.1500\n",
      "Epoch 7/20\n",
      "1/1 [==============================] - 0s 100ms/step - loss: 2.2599 - accuracy: 0.1440\n",
      "Epoch 8/20\n",
      "1/1 [==============================] - 0s 99ms/step - loss: 2.2438 - accuracy: 0.1760\n",
      "Epoch 9/20\n",
      "1/1 [==============================] - 0s 102ms/step - loss: 2.2543 - accuracy: 0.1510\n",
      "Epoch 10/20\n",
      "1/1 [==============================] - 0s 97ms/step - loss: 2.2352 - accuracy: 0.1400\n",
      "Epoch 11/20\n",
      "1/1 [==============================] - 0s 105ms/step - loss: 2.2208 - accuracy: 0.1780\n",
      "Epoch 12/20\n",
      "1/1 [==============================] - 0s 97ms/step - loss: 2.2221 - accuracy: 0.2000\n",
      "Epoch 13/20\n",
      "1/1 [==============================] - 0s 113ms/step - loss: 2.2126 - accuracy: 0.2220\n",
      "Epoch 14/20\n",
      "1/1 [==============================] - 0s 103ms/step - loss: 2.2013 - accuracy: 0.1990\n",
      "Epoch 15/20\n",
      "1/1 [==============================] - 0s 102ms/step - loss: 2.1923 - accuracy: 0.1920\n",
      "Epoch 16/20\n",
      "1/1 [==============================] - 0s 92ms/step - loss: 2.1897 - accuracy: 0.1970\n",
      "Epoch 17/20\n",
      "1/1 [==============================] - 0s 102ms/step - loss: 2.1846 - accuracy: 0.2100\n",
      "Epoch 18/20\n",
      "1/1 [==============================] - 0s 95ms/step - loss: 2.1727 - accuracy: 0.2170\n",
      "Epoch 19/20\n",
      "1/1 [==============================] - 0s 93ms/step - loss: 2.1655 - accuracy: 0.2170\n",
      "Epoch 20/20\n",
      "1/1 [==============================] - 0s 98ms/step - loss: 2.1646 - accuracy: 0.2070\n",
      "CPU times: total: 6.28 s\n",
      "Wall time: 2.81 s\n"
     ]
    },
    {
     "data": {
      "text/plain": [
       "<keras.src.callbacks.History at 0x1fbac7a3e90>"
      ]
     },
     "execution_count": 84,
     "metadata": {},
     "output_type": "execute_result"
    }
   ],
   "source": [
    "%%time\n",
    "\n",
    "nr_epochs = 150\n",
    "\n",
    "model_1.fit(x_train_xs, y_train_xs,batch_size=sample_per_batch,epochs=nr_epochs ,callbacks=[get_tensorboard('Model 1')])"
   ]
  },
  {
   "cell_type": "code",
   "execution_count": null,
   "metadata": {},
   "outputs": [],
   "source": []
  },
  {
   "cell_type": "code",
   "execution_count": null,
   "metadata": {},
   "outputs": [],
   "source": []
  },
  {
   "cell_type": "code",
   "execution_count": null,
   "metadata": {},
   "outputs": [],
   "source": []
  },
  {
   "cell_type": "code",
   "execution_count": null,
   "metadata": {},
   "outputs": [],
   "source": []
  },
  {
   "cell_type": "code",
   "execution_count": null,
   "metadata": {},
   "outputs": [],
   "source": []
  },
  {
   "cell_type": "code",
   "execution_count": null,
   "metadata": {},
   "outputs": [],
   "source": []
  },
  {
   "cell_type": "code",
   "execution_count": null,
   "metadata": {},
   "outputs": [],
   "source": []
  },
  {
   "cell_type": "code",
   "execution_count": null,
   "metadata": {},
   "outputs": [],
   "source": []
  },
  {
   "cell_type": "code",
   "execution_count": null,
   "metadata": {},
   "outputs": [],
   "source": []
  },
  {
   "cell_type": "code",
   "execution_count": null,
   "metadata": {},
   "outputs": [],
   "source": []
  }
 ],
 "metadata": {
  "colab": {
   "provenance": []
  },
  "kernelspec": {
   "display_name": "Python 3 (ipykernel)",
   "language": "python",
   "name": "python3"
  },
  "language_info": {
   "codemirror_mode": {
    "name": "ipython",
    "version": 3
   },
   "file_extension": ".py",
   "mimetype": "text/x-python",
   "name": "python",
   "nbconvert_exporter": "python",
   "pygments_lexer": "ipython3",
   "version": "3.11.5"
  }
 },
 "nbformat": 4,
 "nbformat_minor": 1
}
